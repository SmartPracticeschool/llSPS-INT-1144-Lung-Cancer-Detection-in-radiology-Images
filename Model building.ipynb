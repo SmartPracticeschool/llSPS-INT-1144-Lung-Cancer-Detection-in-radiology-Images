{
 "cells": [
  {
   "cell_type": "code",
   "execution_count": 1,
   "metadata": {
    "scrolled": false
   },
   "outputs": [
    {
     "name": "stderr",
     "output_type": "stream",
     "text": [
      "Using TensorFlow backend.\n"
     ]
    }
   ],
   "source": [
    "#importing model building libraries\n",
    "import os\n",
    "os.chdir(\"C:/Users/BINNY/Desktop/InternshipProject\")\n",
    "from keras.models import Sequential\n",
    "from keras.layers import Dense\n",
    "from keras.layers import Convolution2D\n",
    "from keras.layers import MaxPooling2D\n",
    "from keras.layers import Flatten"
   ]
  },
  {
   "cell_type": "code",
   "execution_count": 2,
   "metadata": {},
   "outputs": [],
   "source": [
    "#Intialize the model\n",
    "model=Sequential()"
   ]
  },
  {
   "cell_type": "code",
   "execution_count": 3,
   "metadata": {},
   "outputs": [],
   "source": [
    "# Add Convolution Layer\n",
    "model.add(Convolution2D(32,(3,3),input_shape=(64,64,3),activation=\"relu\"))"
   ]
  },
  {
   "cell_type": "code",
   "execution_count": 4,
   "metadata": {},
   "outputs": [
    {
     "name": "stdout",
     "output_type": "stream",
     "text": [
      "WARNING:tensorflow:From C:\\Users\\BINNY\\Anaconda3\\lib\\site-packages\\keras\\backend\\tensorflow_backend.py:4070: The name tf.nn.max_pool is deprecated. Please use tf.nn.max_pool2d instead.\n",
      "\n"
     ]
    }
   ],
   "source": [
    "#Add Pooling Layer\n",
    "model.add(MaxPooling2D(pool_size = (2, 2)))"
   ]
  },
  {
   "cell_type": "code",
   "execution_count": 5,
   "metadata": {},
   "outputs": [],
   "source": [
    "#Add Flattening Layer\n",
    "model.add(Flatten())"
   ]
  },
  {
   "cell_type": "code",
   "execution_count": 6,
   "metadata": {},
   "outputs": [
    {
     "name": "stderr",
     "output_type": "stream",
     "text": [
      "C:\\Users\\BINNY\\Anaconda3\\lib\\site-packages\\ipykernel_launcher.py:2: UserWarning: Update your `Dense` call to the Keras 2 API: `Dense(activation=\"relu\", units=120, kernel_initializer=\"uniform\")`\n",
      "  \n"
     ]
    }
   ],
   "source": [
    "#Add Hidden Layer\n",
    "model.add(Dense(init=\"uniform\",activation=\"relu\",output_dim=120))"
   ]
  },
  {
   "cell_type": "code",
   "execution_count": 7,
   "metadata": {},
   "outputs": [
    {
     "name": "stderr",
     "output_type": "stream",
     "text": [
      "C:\\Users\\BINNY\\Anaconda3\\lib\\site-packages\\ipykernel_launcher.py:2: UserWarning: Update your `Dense` call to the Keras 2 API: `Dense(activation=\"sigmoid\", units=1, kernel_initializer=\"uniform\")`\n",
      "  \n"
     ]
    }
   ],
   "source": [
    "#Add Output layer\n",
    "model.add(Dense(init=\"uniform\",activation=\"sigmoid\",output_dim=1))"
   ]
  },
  {
   "cell_type": "code",
   "execution_count": 8,
   "metadata": {},
   "outputs": [
    {
     "name": "stdout",
     "output_type": "stream",
     "text": [
      "WARNING:tensorflow:From C:\\Users\\BINNY\\Anaconda3\\lib\\site-packages\\tensorflow\\python\\ops\\nn_impl.py:180: add_dispatch_support.<locals>.wrapper (from tensorflow.python.ops.array_ops) is deprecated and will be removed in a future version.\n",
      "Instructions for updating:\n",
      "Use tf.where in 2.0, which has the same broadcast rule as np.where\n"
     ]
    }
   ],
   "source": [
    "#Compile the model\n",
    "model.compile(loss=\"binary_crossentropy\",optimizer=\"adam\",metrics=[\"accuracy\"])"
   ]
  },
  {
   "cell_type": "code",
   "execution_count": 9,
   "metadata": {},
   "outputs": [],
   "source": [
    "from keras.preprocessing.image import ImageDataGenerator\n",
    "\n",
    "train_datagen = ImageDataGenerator(rescale = 1./255,\n",
    "                                   shear_range = 0.2,\n",
    "                                   zoom_range = 0.2,\n",
    "                                   horizontal_flip = True)\n",
    "\n",
    "test_datagen = ImageDataGenerator(rescale = 1./255)"
   ]
  },
  {
   "cell_type": "code",
   "execution_count": 10,
   "metadata": {},
   "outputs": [
    {
     "name": "stdout",
     "output_type": "stream",
     "text": [
      "Found 160 images belonging to 2 classes.\n",
      "Found 100 images belonging to 2 classes.\n"
     ]
    }
   ],
   "source": [
    "x_train = train_datagen.flow_from_directory('Dataset/train_dataset',\n",
    "                                                 target_size = (64, 64),\n",
    "                                                 batch_size = 32,\n",
    "                                                     class_mode = 'binary')\n",
    "x_test = test_datagen.flow_from_directory('Dataset/test_dataset',\n",
    "                                            target_size = (64, 64),\n",
    "                                            batch_size = 32,\n",
    "                                            class_mode = 'binary')\n",
    "\n"
   ]
  },
  {
   "cell_type": "code",
   "execution_count": 11,
   "metadata": {},
   "outputs": [
    {
     "name": "stdout",
     "output_type": "stream",
     "text": [
      "{'lungcancer': 0, 'lungnoudle': 1}\n"
     ]
    }
   ],
   "source": [
    "print(x_train.class_indices)"
   ]
  },
  {
   "cell_type": "code",
   "execution_count": 12,
   "metadata": {},
   "outputs": [
    {
     "data": {
      "text/plain": [
       "<keras.preprocessing.image.DirectoryIterator at 0x1457f3f3b88>"
      ]
     },
     "execution_count": 12,
     "metadata": {},
     "output_type": "execute_result"
    }
   ],
   "source": [
    "x_train"
   ]
  },
  {
   "cell_type": "code",
   "execution_count": 13,
   "metadata": {},
   "outputs": [
    {
     "data": {
      "text/plain": [
       "<keras.preprocessing.image.DirectoryIterator at 0x1457f4ec708>"
      ]
     },
     "execution_count": 13,
     "metadata": {},
     "output_type": "execute_result"
    }
   ],
   "source": [
    "x_test"
   ]
  },
  {
   "cell_type": "code",
   "execution_count": 14,
   "metadata": {},
   "outputs": [
    {
     "name": "stdout",
     "output_type": "stream",
     "text": [
      "WARNING:tensorflow:From C:\\Users\\BINNY\\Anaconda3\\lib\\site-packages\\keras\\backend\\tensorflow_backend.py:422: The name tf.global_variables is deprecated. Please use tf.compat.v1.global_variables instead.\n",
      "\n",
      "Epoch 1/25\n",
      "225/225 [==============================] - 63s 279ms/step - loss: 0.4685 - accuracy: 0.7661 - val_loss: 1.6506 - val_accuracy: 0.4492\n",
      "Epoch 2/25\n",
      "225/225 [==============================] - 59s 264ms/step - loss: 0.1438 - accuracy: 0.9492 - val_loss: 3.6081 - val_accuracy: 0.4707\n",
      "Epoch 3/25\n",
      "225/225 [==============================] - 59s 263ms/step - loss: 0.0356 - accuracy: 0.9926 - val_loss: 4.2725 - val_accuracy: 0.4458\n",
      "Epoch 4/25\n",
      "225/225 [==============================] - 57s 254ms/step - loss: 0.0216 - accuracy: 0.9962 - val_loss: 3.4377 - val_accuracy: 0.4337\n",
      "Epoch 5/25\n",
      "225/225 [==============================] - 58s 256ms/step - loss: 0.0125 - accuracy: 0.9976 - val_loss: 7.3203 - val_accuracy: 0.4593\n",
      "Epoch 6/25\n",
      "225/225 [==============================] - 63s 280ms/step - loss: 0.0027 - accuracy: 1.0000 - val_loss: 5.9296 - val_accuracy: 0.4611\n",
      "Epoch 7/25\n",
      "225/225 [==============================] - 61s 271ms/step - loss: 0.0043 - accuracy: 0.9993 - val_loss: 4.9686 - val_accuracy: 0.4611\n",
      "Epoch 8/25\n",
      "225/225 [==============================] - 60s 266ms/step - loss: 0.0012 - accuracy: 0.9999 - val_loss: 7.4555 - val_accuracy: 0.4292\n",
      "Epoch 9/25\n",
      "225/225 [==============================] - 61s 272ms/step - loss: 0.0081 - accuracy: 0.9982 - val_loss: 6.6827 - val_accuracy: 0.4492\n",
      "Epoch 10/25\n",
      "225/225 [==============================] - 61s 270ms/step - loss: 0.0098 - accuracy: 0.9974 - val_loss: 5.9914 - val_accuracy: 0.4611\n",
      "Epoch 11/25\n",
      "225/225 [==============================] - 58s 260ms/step - loss: 9.9123e-04 - accuracy: 1.0000 - val_loss: 4.4956 - val_accuracy: 0.4503\n",
      "Epoch 12/25\n",
      "225/225 [==============================] - 58s 258ms/step - loss: 4.1697e-04 - accuracy: 1.0000 - val_loss: 15.7153 - val_accuracy: 0.4401\n",
      "Epoch 13/25\n",
      "225/225 [==============================] - 84s 371ms/step - loss: 0.0132 - accuracy: 0.9962 - val_loss: 5.0596 - val_accuracy: 0.4799\n",
      "Epoch 14/25\n",
      "225/225 [==============================] - 65s 290ms/step - loss: 0.0046 - accuracy: 0.9989 - val_loss: 5.1409 - val_accuracy: 0.4483\n",
      "Epoch 15/25\n",
      "225/225 [==============================] - 60s 267ms/step - loss: 3.7812e-04 - accuracy: 1.0000 - val_loss: 5.5290 - val_accuracy: 0.4898\n",
      "Epoch 16/25\n",
      "225/225 [==============================] - 60s 268ms/step - loss: 2.2774e-04 - accuracy: 1.0000 - val_loss: 3.4047 - val_accuracy: 0.5000\n",
      "Epoch 17/25\n",
      "225/225 [==============================] - 58s 259ms/step - loss: 1.9069e-04 - accuracy: 1.0000 - val_loss: 7.5776 - val_accuracy: 0.4605\n",
      "Epoch 18/25\n",
      "225/225 [==============================] - 58s 256ms/step - loss: 1.4803e-04 - accuracy: 1.0000 - val_loss: 5.6395 - val_accuracy: 0.4904\n",
      "Epoch 19/25\n",
      "225/225 [==============================] - 57s 255ms/step - loss: 1.1937e-04 - accuracy: 1.0000 - val_loss: 4.8139 - val_accuracy: 0.4879\n",
      "Epoch 20/25\n",
      "225/225 [==============================] - 57s 253ms/step - loss: 6.9964e-05 - accuracy: 1.0000 - val_loss: 11.7598 - val_accuracy: 0.5006\n",
      "Epoch 21/25\n",
      "225/225 [==============================] - 58s 257ms/step - loss: 5.6790e-05 - accuracy: 1.0000 - val_loss: 9.1923 - val_accuracy: 0.4693\n",
      "Epoch 22/25\n",
      "225/225 [==============================] - 58s 260ms/step - loss: 3.7924e-05 - accuracy: 1.0000 - val_loss: 5.6355 - val_accuracy: 0.4917\n",
      "Epoch 23/25\n",
      "225/225 [==============================] - 58s 259ms/step - loss: 3.2996e-05 - accuracy: 1.0000 - val_loss: 5.5738 - val_accuracy: 0.4904\n",
      "Epoch 24/25\n",
      "225/225 [==============================] - 59s 262ms/step - loss: 3.2905e-05 - accuracy: 1.0000 - val_loss: 10.0234 - val_accuracy: 0.4885\n",
      "Epoch 25/25\n",
      "225/225 [==============================] - 59s 260ms/step - loss: 1.9358e-05 - accuracy: 1.0000 - val_loss: 7.2994 - val_accuracy: 0.5100\n"
     ]
    }
   ],
   "source": [
    "history=model.fit_generator(x_train,\n",
    "                         steps_per_epoch = 225,\n",
    "                         epochs = 25,\n",
    "                         validation_data = x_test,\n",
    "                         validation_steps = 63)"
   ]
  },
  {
   "cell_type": "code",
   "execution_count": 15,
   "metadata": {},
   "outputs": [],
   "source": [
    "model.save(\"mymodel.h5\")"
   ]
  },
  {
   "cell_type": "code",
   "execution_count": 17,
   "metadata": {},
   "outputs": [
    {
     "name": "stderr",
     "output_type": "stream",
     "text": [
      "C:\\Users\\BINNY\\Anaconda3\\lib\\site-packages\\ipykernel_launcher.py:17: MatplotlibDeprecationWarning: Unrecognized location 'middle right'. Falling back on 'best'; valid locations are\n",
      "\tbest\n",
      "\tupper right\n",
      "\tupper left\n",
      "\tlower left\n",
      "\tlower right\n",
      "\tright\n",
      "\tcenter left\n",
      "\tcenter right\n",
      "\tlower center\n",
      "\tupper center\n",
      "\tcenter\n",
      "This will raise an exception in 3.3.\n"
     ]
    },
    {
     "data": {
      "image/png": "[encoded data removed]",
      "text/plain": [
       "<Figure size 1440x720 with 2 Axes>"
      ]
     },
     "metadata": {
      "needs_background": "light"
     },
     "output_type": "display_data"
    }
   ],
   "source": [
    "# plot the evolution of Loss and Acuracy on the train and validation sets\n",
    "\n",
    "import matplotlib.pyplot as plt\n",
    "\n",
    "plt.figure(figsize=(20,10))\n",
    "plt.subplot(1, 2, 1)\n",
    "plt.suptitle('Optimizer : Adam', fontsize=10)\n",
    "plt.ylabel('Loss', fontsize=16)\n",
    "plt.plot(history.history['loss'], label='Training Loss')\n",
    "plt.plot(history.history['val_loss'], label='Validation Loss')\n",
    "plt.legend(loc='upper right')\n",
    "\n",
    "plt.subplot(1, 2, 2)\n",
    "plt.ylabel('Accuracy', fontsize=16)\n",
    "plt.plot(history.history['accuracy'], label='Training Accuracy')\n",
    "plt.plot(history.history['val_accuracy'], label='Validation Accuracy')\n",
    "plt.legend(loc='middle right')\n",
    "plt.show()"
   ]
  },
  {
   "cell_type": "code",
   "execution_count": null,
   "metadata": {},
   "outputs": [],
   "source": []
  }
 ],
 "metadata": {
  "kernelspec": {
   "display_name": "Python 3",
   "language": "python",
   "name": "python3"
  },
  "language_info": {
   "codemirror_mode": {
    "name": "ipython",
    "version": 3
   },
   "file_extension": ".py",
   "mimetype": "text/x-python",
   "name": "python",
   "nbconvert_exporter": "python",
   "pygments_lexer": "ipython3",
   "version": "3.7.4"
  }
 },
 "nbformat": 4,
 "nbformat_minor": 2
}
